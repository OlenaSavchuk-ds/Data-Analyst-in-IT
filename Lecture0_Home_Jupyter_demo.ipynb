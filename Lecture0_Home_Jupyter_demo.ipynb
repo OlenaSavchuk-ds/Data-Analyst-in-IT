{
 "cells": [
  {
   "cell_type": "markdown",
   "metadata": {
    "id": "2oL3UQcUiF6l"
   },
   "source": [
    "# Вступ\n",
    "Мене **звати** Іван!   \n",
    "\n",
    "Я пишу код на *Python*!\n",
    "\n",
    "Ця програма робить щось корисне."
   ]
  },
  {
   "cell_type": "code",
   "execution_count": 1,
   "metadata": {
    "ExecuteTime": {
     "end_time": "2025-10-20T14:00:32.767174Z",
     "start_time": "2025-10-20T14:00:32.752185Z"
    },
    "id": "sprUE9FMiF6p"
   },
   "outputs": [
    {
     "name": "stdout",
     "output_type": "stream",
     "text": [
      "Hello world!\n"
     ]
    }
   ],
   "source": [
    "print('Hello world!')"
   ]
  },
  {
   "cell_type": "code",
   "execution_count": 2,
   "metadata": {
    "ExecuteTime": {
     "end_time": "2025-10-20T14:00:37.169144Z",
     "start_time": "2025-10-20T14:00:37.159170Z"
    },
    "id": "_neQgyJhiF6r"
   },
   "outputs": [
    {
     "data": {
      "text/plain": [
       "140"
      ]
     },
     "execution_count": 2,
     "metadata": {},
     "output_type": "execute_result"
    }
   ],
   "source": [
    "120+20"
   ]
  },
  {
   "cell_type": "markdown",
   "metadata": {
    "id": "OwXfKtgZiF6r"
   },
   "source": [
    "## Розділ 1\n",
    "просто текст\n",
    "\n",
    "### Підрозділ\n",
    "\n",
    "## Розділ 2"
   ]
  },
  {
   "cell_type": "code",
   "execution_count": 3,
   "metadata": {
    "ExecuteTime": {
     "end_time": "2025-10-20T14:00:43.517058Z",
     "start_time": "2025-10-20T14:00:43.472195Z"
    }
   },
   "outputs": [
    {
     "name": "stdout",
     "output_type": "stream",
     "text": [
      " Volume in drive D is Storage space\n",
      " Volume Serial Number is 585C-3294\n",
      "\n",
      " Directory of D:\\DataAnalysis\\Python\n",
      "\n",
      "20.10.2025  16:52    <DIR>          .\n",
      "20.10.2025  16:52    <DIR>          ..\n",
      "20.10.2025  16:04    <DIR>          .ipynb_checkpoints\n",
      "20.10.2025  10:25         1я479я882 kompiuterna_gramotnist_ta_instrumenti_dlia_roboti_z_kodom.pdf\n",
      "20.10.2025  16:51            11я474 Lecture_0_Jupyter_demo_ipynb_.ipynb\n",
      "20.10.2025  10:25           100я895 osnovni_komandi_v_bash_ta_powershell.pdf\n",
      "               3 File(s)      1я592я251 bytes\n",
      "               3 Dir(s)  276я379я566я080 bytes free\n"
     ]
    }
   ],
   "source": [
    "!dir"
   ]
  },
  {
   "cell_type": "code",
   "execution_count": 4,
   "metadata": {
    "ExecuteTime": {
     "end_time": "2025-10-20T14:00:48.991184Z",
     "start_time": "2025-10-20T14:00:48.951178Z"
    }
   },
   "outputs": [
    {
     "name": "stdout",
     "output_type": "stream",
     "text": [
      "D:\\DataAnalysis\\Python\n"
     ]
    }
   ],
   "source": [
    "!cd"
   ]
  },
  {
   "cell_type": "code",
   "execution_count": null,
   "metadata": {
    "ExecuteTime": {
     "end_time": "2025-10-20T13:32:29.468735Z",
     "start_time": "2025-10-20T13:31:59.389684Z"
    },
    "colab": {
     "background_save": true
    },
    "id": "vHtOqcLpiF6s"
   },
   "outputs": [],
   "source": [
    "import time\n",
    "\n",
    "for i in range(10):\n",
    "    print(i)\n",
    "    time.sleep(30)"
   ]
  },
  {
   "cell_type": "code",
   "execution_count": 5,
   "metadata": {
    "ExecuteTime": {
     "end_time": "2025-10-20T14:00:56.643189Z",
     "start_time": "2025-10-20T14:00:56.630222Z"
    },
    "colab": {
     "background_save": true
    },
    "id": "vHtOqcLpiF6s"
   },
   "outputs": [],
   "source": [
    "my_list = [1, 2, 3, 4]"
   ]
  },
  {
   "cell_type": "code",
   "execution_count": 6,
   "metadata": {
    "ExecuteTime": {
     "end_time": "2025-10-20T14:01:00.164268Z",
     "start_time": "2025-10-20T14:01:00.151334Z"
    },
    "colab": {
     "background_save": true
    },
    "id": "J1v2i3hWiF6s"
   },
   "outputs": [
    {
     "data": {
      "text/plain": [
       "[1, 2, 3, 4]"
      ]
     },
     "execution_count": 6,
     "metadata": {},
     "output_type": "execute_result"
    }
   ],
   "source": [
    "my_list"
   ]
  },
  {
   "cell_type": "markdown",
   "metadata": {
    "id": "0S3ZoqbqiF6t"
   },
   "source": [
    "В мене є список\n",
    "* Один\n",
    "    - підсписок\n",
    "        - це\n",
    "  - інший підписок\n",
    "        - то\n",
    "        - і ще то\n",
    "* два\n",
    "  - підсписок"
   ]
  },
  {
   "cell_type": "code",
   "execution_count": 9,
   "metadata": {
    "ExecuteTime": {
     "end_time": "2025-10-20T14:02:36.807211Z",
     "start_time": "2025-10-20T14:02:36.787264Z"
    },
    "colab": {
     "background_save": true
    },
    "id": "o_TLwslPiF6t"
   },
   "outputs": [
    {
     "data": {
      "text/plain": [
       "[64, 49, 36, 25, 16, 9, 4, 1, 0, 1, 4, 9, 16, 25, 36, 49, 64, 81, 100]"
      ]
     },
     "execution_count": 9,
     "metadata": {},
     "output_type": "execute_result"
    }
   ],
   "source": [
    "[x**2 for x in range(-8, 11)]"
   ]
  },
  {
   "cell_type": "code",
   "execution_count": 10,
   "metadata": {
    "ExecuteTime": {
     "end_time": "2025-10-20T14:02:44.401426Z",
     "start_time": "2025-10-20T14:02:44.391422Z"
    },
    "colab": {
     "background_save": true
    },
    "id": "bhnCh7-fiF6u"
   },
   "outputs": [],
   "source": [
    "s = 'Hello world!'"
   ]
  },
  {
   "cell_type": "code",
   "execution_count": 11,
   "metadata": {
    "ExecuteTime": {
     "end_time": "2025-10-20T14:02:52.121749Z",
     "start_time": "2025-10-20T14:02:52.111766Z"
    },
    "colab": {
     "background_save": true
    },
    "id": "eDdgh4AaiF6u"
   },
   "outputs": [
    {
     "name": "stdout",
     "output_type": "stream",
     "text": [
      "Hello world!\n"
     ]
    }
   ],
   "source": [
    "print(s)"
   ]
  },
  {
   "cell_type": "code",
   "execution_count": 14,
   "metadata": {
    "ExecuteTime": {
     "end_time": "2025-10-20T14:03:24.166258Z",
     "start_time": "2025-10-20T14:03:24.155286Z"
    },
    "colab": {
     "background_save": true
    },
    "id": "UQRN7yCHiF6u"
   },
   "outputs": [
    {
     "name": "stdout",
     "output_type": "stream",
     "text": [
      "37\n",
      "6\n"
     ]
    },
    {
     "data": {
      "text/plain": [
       "'Hello world!'"
      ]
     },
     "execution_count": 14,
     "metadata": {},
     "output_type": "execute_result"
    }
   ],
   "source": [
    "1+1\n",
    "print(15+22)\n",
    "print(3+3)\n",
    "s"
   ]
  },
  {
   "cell_type": "code",
   "execution_count": 15,
   "metadata": {
    "ExecuteTime": {
     "end_time": "2025-10-20T14:03:43.417701Z",
     "start_time": "2025-10-20T14:03:43.407728Z"
    },
    "colab": {
     "background_save": true
    },
    "id": "omVOoOrsiF6u"
   },
   "outputs": [],
   "source": [
    "a = 'Hello everyone!'"
   ]
  },
  {
   "cell_type": "code",
   "execution_count": 16,
   "metadata": {
    "ExecuteTime": {
     "end_time": "2025-10-20T14:03:56.386491Z",
     "start_time": "2025-10-20T14:03:56.367541Z"
    },
    "colab": {
     "background_save": true
    },
    "id": "HmzhXdz6iF6v"
   },
   "outputs": [
    {
     "data": {
      "text/plain": [
       "'Hello everyone!'"
      ]
     },
     "execution_count": 16,
     "metadata": {},
     "output_type": "execute_result"
    }
   ],
   "source": [
    "a"
   ]
  },
  {
   "cell_type": "code",
   "execution_count": 18,
   "metadata": {
    "ExecuteTime": {
     "end_time": "2025-10-20T14:04:24.415079Z",
     "start_time": "2025-10-20T14:04:24.399506Z"
    },
    "colab": {
     "background_save": true
    },
    "id": "XvWyCrjQiF6v"
   },
   "outputs": [],
   "source": [
    "import matplotlib.pyplot as plt\n",
    "import numpy as np"
   ]
  },
  {
   "cell_type": "code",
   "execution_count": 19,
   "metadata": {
    "ExecuteTime": {
     "end_time": "2025-10-20T14:04:37.113673Z",
     "start_time": "2025-10-20T14:04:36.915540Z"
    },
    "colab": {
     "background_save": true
    },
    "id": "1MQpGGDOiF6v"
   },
   "outputs": [
    {
     "data": {
      "image/png": "[encoded data removed]",
      "text/plain": [
       "<Figure size 640x480 with 1 Axes>"
      ]
     },
     "metadata": {},
     "output_type": "display_data"
    }
   ],
   "source": [
    "plt.plot(np.sin(range(20)));"
   ]
  },
  {
   "cell_type": "markdown",
   "metadata": {
    "id": "Rwn_z8I-iF6v"
   },
   "source": [
    "## Розділ 3"
   ]
  },
  {
   "cell_type": "code",
   "execution_count": 20,
   "metadata": {
    "ExecuteTime": {
     "end_time": "2025-10-20T14:05:51.529994Z",
     "start_time": "2025-10-20T14:05:51.520021Z"
    },
    "colab": {
     "background_save": true
    },
    "id": "LdWkw7hXiF6v"
   },
   "outputs": [
    {
     "data": {
      "text/plain": [
       "3"
      ]
     },
     "execution_count": 20,
     "metadata": {},
     "output_type": "execute_result"
    }
   ],
   "source": [
    "a = 1\n",
    "b = 2\n",
    "a + b"
   ]
  },
  {
   "cell_type": "code",
   "execution_count": 21,
   "metadata": {
    "ExecuteTime": {
     "end_time": "2025-10-20T14:05:57.592668Z",
     "start_time": "2025-10-20T14:05:57.575712Z"
    },
    "colab": {
     "background_save": true
    },
    "id": "7wt1mxE6iF6v"
   },
   "outputs": [
    {
     "data": {
      "text/plain": [
       "0.5"
      ]
     },
     "execution_count": 21,
     "metadata": {},
     "output_type": "execute_result"
    }
   ],
   "source": [
    "a/b"
   ]
  },
  {
   "cell_type": "code",
   "execution_count": 22,
   "metadata": {
    "ExecuteTime": {
     "end_time": "2025-10-20T14:07:32.758024Z",
     "start_time": "2025-10-20T14:07:32.748051Z"
    },
    "colab": {
     "background_save": true
    },
    "id": "tSJiEaU6iF6w"
   },
   "outputs": [],
   "source": [
    "d = (b -1)/10"
   ]
  },
  {
   "cell_type": "code",
   "execution_count": 23,
   "metadata": {
    "ExecuteTime": {
     "end_time": "2025-10-20T14:07:42.859855Z",
     "start_time": "2025-10-20T14:07:42.847894Z"
    }
   },
   "outputs": [
    {
     "name": "stdout",
     "output_type": "stream",
     "text": [
      "0.1\n"
     ]
    }
   ],
   "source": [
    "print(d)"
   ]
  },
  {
   "cell_type": "code",
   "execution_count": null,
   "metadata": {},
   "outputs": [],
   "source": []
  }
 ],
 "metadata": {
  "colab": {
   "provenance": []
  },
  "kernelspec": {
   "display_name": "Python 3 (ipykernel)",
   "language": "python",
   "name": "python3"
  },
  "language_info": {
   "codemirror_mode": {
    "name": "ipython",
    "version": 3
   },
   "file_extension": ".py",
   "mimetype": "text/x-python",
   "name": "python",
   "nbconvert_exporter": "python",
   "pygments_lexer": "ipython3",
   "version": "3.10.19"
  },
  "toc": {
   "base_numbering": 1,
   "nav_menu": {},
   "number_sections": true,
   "sideBar": true,
   "skip_h1_title": false,
   "title_cell": "Table of Contents",
   "title_sidebar": "Contents",
   "toc_cell": false,
   "toc_position": {},
   "toc_section_display": true,
   "toc_window_display": false
  }
 },
 "nbformat": 4,
 "nbformat_minor": 1
}
